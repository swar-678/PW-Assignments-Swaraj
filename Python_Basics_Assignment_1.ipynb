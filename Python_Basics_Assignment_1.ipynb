{
  "nbformat": 4,
  "nbformat_minor": 0,
  "metadata": {
    "colab": {
      "provenance": []
    },
    "kernelspec": {
      "name": "python3",
      "display_name": "Python 3"
    },
    "language_info": {
      "name": "python"
    }
  },
  "cells": [
    {
      "cell_type": "markdown",
      "source": [
        "#Python Basics Questions\n"
      ],
      "metadata": {
        "id": "A0OOLGv8mJOI"
      }
    },
    {
      "cell_type": "markdown",
      "source": [
        "1. What is Python, and why is it popular ?\n",
        "   - python is the coding languange that is used to give instructions to the computer in the form of code.\n",
        "   - It is popular due to following things:\n",
        "     1. Easy learn and implement\n",
        "     2. It contains lots of libraries.\n",
        "     3. The wide community of people that updates and enhances python coding experience\n",
        "     4. Has libraries that is wide used for data analysis,machine learning,devolepment,Game building etc.\n",
        "\n",
        "2. What is an interpreter in Python?\n",
        "   - An interpreter is a programm that directly executes the code line by line insead of first compiling all code in machine language and then executing.\n",
        "\n",
        "3. What are pre-defined keywords in Python?   \n",
        "   - Predefined keywords in python are those words that are specially reserved for their unique task and use in coding.\n",
        "   - These keywords cannot be used for identifiers such as variable or function names.\n",
        "   - ex. None,import,if,else,for,in,etc..\n",
        "\n",
        "4. Can keywords be used as variable names?\n",
        "   - No ,keywords cannot be used as variable names ,if used the will show errors.\n",
        "\n",
        "5.  What is mutability in Python?\n",
        "   - Mutability in python allows specific objects to be changed or manipulated after it being created.\n",
        "   - ex. list,dictionary.\n",
        "   - Changing suports sorting,inserting,removing elements...,etc.\n",
        "\n",
        "6. Why are lists mutable, but tuples are immutable?\n",
        "  - lists are disigned in such a way that it uses dyanamic memory allocation,it reserves extra memory so that it can further be changed.\n",
        "  - While in case of tuples,when they get created memory allocated to tuple gets lock or freezed.\n",
        "\n",
        "7. What is the difference between “==” and “is” operators in Python?\n",
        "  - '==' is a relational operator that is used to compare any two variables or vales.\n",
        "  It gives output in boolean values. EX.5==4 ,out =False\n",
        "  - While 'is' is an identification operator it directly compares or gives true if any two variables are pointing to the same memory location  \n",
        "\n",
        "8. What are logical operators in Python?\n",
        "   - logical operators are used when we want boolean values (true/false) from two or more statements by conditioning over them.\n",
        "   - ex. and,or,not.\n",
        "   - ex. x=10, x>6 and x,12 ,ans=true.\n",
        "\n",
        "9. What is type casting in Python?\n",
        "   - Type casting in python is process of changing or assigning values their respective data types.\n",
        "   -ex. a=5 ...here python impllicitly typecast it as int but if you want to change this into character you can do str(a),this changes 5 to a string.\n",
        "\n",
        "10. What is the difference between implicit and explicit type casting ?\n",
        "    - In implicit typecasting python itself typecast values if we dont mention there respective types.\n",
        "    - ex. a=5, this is get typecast as a int.\n",
        "    - In explicit typecasting users changes or typecasts thvariables or values,ex str(a),float(a),..etc.\n",
        "\n",
        "11. What is the purpose of conditional statements in Python ?\n",
        "    - Conditional statements serves when user wants statements or code to be executed when certian conditions meet.\n",
        "\n",
        "12.  How does the elif statement work ?\n",
        "    - elif statement is the succeding statement used after if, when the condtion in if satement is not matched then elif conditions is executed or checked.\n",
        "\n",
        "13. What is the difference between for and while loops ?\n",
        "    - While loop is used when user wants to to repeated task till certain conditon is arrived.\n",
        "    - syntax= while condition: do this.\n",
        "    - For loop is used to iterate over container of objects like string ,list,or numbers,etc.\n",
        "    - syntax = for item in container: do this\n",
        "\n",
        "14.  Describe a scenario where a while loop is more suitable than a for loop?\n",
        "    - for giving acces via password we can use while loop suitably,\n",
        "    - ex. while entered_password != correct_password: print('Enter coreect password'). else print('succesful registration')       \n",
        "\n",
        "\n"
      ],
      "metadata": {
        "id": "iwxyiCs5mPYi"
      }
    },
    {
      "cell_type": "markdown",
      "source": [
        "#Practical Questions"
      ],
      "metadata": {
        "id": "fVX9AOqL6viF"
      }
    },
    {
      "cell_type": "code",
      "source": [
        "# 1. Write a Python program to print \"Hello, World!\"\n",
        "\n",
        "print('Hello, World!')"
      ],
      "metadata": {
        "colab": {
          "base_uri": "https://localhost:8080/"
        },
        "id": "o90BCNLJ64KN",
        "outputId": "16dd1e35-a25f-4a72-caad-f697fedb9b42"
      },
      "execution_count": 1,
      "outputs": [
        {
          "output_type": "stream",
          "name": "stdout",
          "text": [
            "Hello, World!\n"
          ]
        }
      ]
    },
    {
      "cell_type": "code",
      "source": [
        "# 2.Write a Python program that displays your name and age.\n",
        "\n",
        "name = 'Swaraj jadhav'\n",
        "age= 20\n",
        "print('name=',name,'\\nage=',age)"
      ],
      "metadata": {
        "colab": {
          "base_uri": "https://localhost:8080/"
        },
        "id": "70DcLFlp7OLE",
        "outputId": "f8f3575b-52ed-4d33-e3d7-8622b2263537"
      },
      "execution_count": 2,
      "outputs": [
        {
          "output_type": "stream",
          "name": "stdout",
          "text": [
            "name= Swaraj jadhav \n",
            "age= 20\n"
          ]
        }
      ]
    },
    {
      "cell_type": "code",
      "source": [
        "# 3. Write code to print all the pre-defined keywords in Python using the keyword library\n",
        "\n",
        "import keyword\n",
        "print(keyword.kwlist)"
      ],
      "metadata": {
        "colab": {
          "base_uri": "https://localhost:8080/"
        },
        "id": "AS_2X3j57spk",
        "outputId": "7451cf94-600f-4c27-9020-b4c567e48404"
      },
      "execution_count": 3,
      "outputs": [
        {
          "output_type": "stream",
          "name": "stdout",
          "text": [
            "['False', 'None', 'True', 'and', 'as', 'assert', 'async', 'await', 'break', 'class', 'continue', 'def', 'del', 'elif', 'else', 'except', 'finally', 'for', 'from', 'global', 'if', 'import', 'in', 'is', 'lambda', 'nonlocal', 'not', 'or', 'pass', 'raise', 'return', 'try', 'while', 'with', 'yield']\n"
          ]
        }
      ]
    },
    {
      "cell_type": "code",
      "source": [
        "# 4. Write a program that checks if a given word is a Python keyword.\n",
        "\n",
        "word=input('Enter a word=  ')\n",
        "for item in keyword.kwlist:\n",
        "  if (item==word) :\n",
        "    print('This is a keyword')\n",
        "    break\n",
        "else : print('this is not a keyword')\n"
      ],
      "metadata": {
        "colab": {
          "base_uri": "https://localhost:8080/"
        },
        "id": "FYgYGUJQ9hHg",
        "outputId": "9fe0fcc8-b9c6-4553-a93e-9f9c56dead92"
      },
      "execution_count": 4,
      "outputs": [
        {
          "output_type": "stream",
          "name": "stdout",
          "text": [
            "Enter a word=  break\n",
            "This is a keyword\n"
          ]
        }
      ]
    },
    {
      "cell_type": "code",
      "source": [
        "#5. Create a list and tuple in Python, and demonstrate how attempting to change an element works differently\n",
        "#for each.\n",
        "_list=[1,2,3,4,5]\n",
        "_tuple=(1,2,3,4,5)\n",
        "_list[0]=8\n",
        "print(_list)"
      ],
      "metadata": {
        "colab": {
          "base_uri": "https://localhost:8080/"
        },
        "id": "POwl6_fZ-XfK",
        "outputId": "5528d53b-1126-4fc8-956d-45e007040731"
      },
      "execution_count": 5,
      "outputs": [
        {
          "output_type": "stream",
          "name": "stdout",
          "text": [
            "[8, 2, 3, 4, 5]\n"
          ]
        }
      ]
    },
    {
      "cell_type": "code",
      "source": [
        "_tuple[0]=8\n",
        "print(_tuple)\n"
      ],
      "metadata": {
        "colab": {
          "base_uri": "https://localhost:8080/",
          "height": 158
        },
        "id": "Nt2jOsYACIHm",
        "outputId": "e9d6cf75-8031-4b7a-9e81-3e7ecd7f231e"
      },
      "execution_count": 6,
      "outputs": [
        {
          "output_type": "error",
          "ename": "TypeError",
          "evalue": "'tuple' object does not support item assignment",
          "traceback": [
            "\u001b[0;31m---------------------------------------------------------------------------\u001b[0m",
            "\u001b[0;31mTypeError\u001b[0m                                 Traceback (most recent call last)",
            "\u001b[0;32m/tmp/ipython-input-6-90368406.py\u001b[0m in \u001b[0;36m<cell line: 0>\u001b[0;34m()\u001b[0m\n\u001b[0;32m----> 1\u001b[0;31m \u001b[0m_tuple\u001b[0m\u001b[0;34m[\u001b[0m\u001b[0;36m0\u001b[0m\u001b[0;34m]\u001b[0m\u001b[0;34m=\u001b[0m\u001b[0;36m8\u001b[0m\u001b[0;34m\u001b[0m\u001b[0;34m\u001b[0m\u001b[0m\n\u001b[0m\u001b[1;32m      2\u001b[0m \u001b[0mprint\u001b[0m\u001b[0;34m(\u001b[0m\u001b[0m_tuple\u001b[0m\u001b[0;34m)\u001b[0m\u001b[0;34m\u001b[0m\u001b[0;34m\u001b[0m\u001b[0m\n",
            "\u001b[0;31mTypeError\u001b[0m: 'tuple' object does not support item assignment"
          ]
        }
      ]
    },
    {
      "cell_type": "code",
      "source": [
        "# 6. Write a function to demonstrate the behavior of mutable and immutable arguments\n",
        "\n",
        "def modify(my_str, my_list):\n",
        "  my_str+=my_str\n",
        "  my_list+=my_list\n",
        "  print(my_str)\n",
        "  print(my_list)\n",
        ""
      ],
      "metadata": {
        "id": "MRjVa4NTCiPo"
      },
      "execution_count": 7,
      "outputs": []
    },
    {
      "cell_type": "code",
      "source": [
        "x=('hurey ')\n",
        "y=[1,2,3]\n",
        "modify(x,y)\n",
        "print(x)\n",
        "print(y)"
      ],
      "metadata": {
        "colab": {
          "base_uri": "https://localhost:8080/"
        },
        "id": "V1pu7GJlEy8h",
        "outputId": "9a2ca891-bc9d-48a3-c85b-4c816b569c45"
      },
      "execution_count": 8,
      "outputs": [
        {
          "output_type": "stream",
          "name": "stdout",
          "text": [
            "hurey hurey \n",
            "[1, 2, 3, 1, 2, 3]\n",
            "hurey \n",
            "[1, 2, 3, 1, 2, 3]\n"
          ]
        }
      ]
    },
    {
      "cell_type": "code",
      "source": [
        "# 7. Write a program that performs basic arithmetic operations on two user-input numbers\n",
        "\n",
        "x=int(input('Enter first number '))\n",
        "y=int(input('Enter second number '))\n",
        "\n",
        "print('addition = ',x+y)\n",
        "print('substraction = ',x-y)\n",
        "print('multiplication = ',x*y)\n",
        "print('division = ',x/y)"
      ],
      "metadata": {
        "colab": {
          "base_uri": "https://localhost:8080/"
        },
        "id": "c95sqs6uEz8T",
        "outputId": "eb4e68d2-bf3a-4432-ee91-a4084256435b"
      },
      "execution_count": 9,
      "outputs": [
        {
          "output_type": "stream",
          "name": "stdout",
          "text": [
            "Enter first number 5\n",
            "Enter second number 3\n",
            "addition =  8\n",
            "substraction =  2\n",
            "multiplication =  15\n",
            "division =  1.6666666666666667\n"
          ]
        }
      ]
    },
    {
      "cell_type": "code",
      "source": [
        "# 8.  Write a program to demonstrate the use of logical operators\n",
        "print('Worning! leave box empty and hit enter if false \\n')\n",
        "\n",
        "rain=bool(input('is it raining? '))\n",
        "boy_is_out=bool(input('is boy outside? '))\n",
        "umbrella=bool(input('does boy having umbrella? '))\n",
        "\n",
        "if (rain and boy_is_out and not umbrella):\n",
        "    print('Boy gets wet')\n",
        "else :\n",
        "    print('Boy doesn\\'t gets wet')\n"
      ],
      "metadata": {
        "colab": {
          "base_uri": "https://localhost:8080/"
        },
        "id": "p-DJcHzCI-uN",
        "outputId": "930a2b04-9488-4a2e-8461-904552dce00d"
      },
      "execution_count": 10,
      "outputs": [
        {
          "output_type": "stream",
          "name": "stdout",
          "text": [
            "Worning! leave box empty and hit enter if false \n",
            "\n",
            "is it raining? yes\n",
            "is boy outside? yes\n",
            "does boy having umbrella? \n",
            "Boy gets wet\n"
          ]
        }
      ]
    },
    {
      "cell_type": "code",
      "source": [
        "# 9.Write a Python program to convert user input from string to integer, float, and boolean types\n",
        "\n",
        "_string=input('Enter value ')\n",
        "print('string to int= ',int(_string))\n",
        "print('string to float= ',float(_string))\n",
        "print('string to boolean= ',bool(_string))"
      ],
      "metadata": {
        "colab": {
          "base_uri": "https://localhost:8080/"
        },
        "id": "Z3LmScvwL7yy",
        "outputId": "040d5c37-8566-4ea4-a410-f1fbc44847be"
      },
      "execution_count": 11,
      "outputs": [
        {
          "output_type": "stream",
          "name": "stdout",
          "text": [
            "Enter value 5\n",
            "string to int=  5\n",
            "string to float=  5.0\n",
            "string to boolean=  True\n"
          ]
        }
      ]
    },
    {
      "cell_type": "code",
      "source": [
        "# 10.Write code to demonstrate type casting with list elements\n",
        "\n",
        "_list=[8,2,10,4,5]\n",
        "\n",
        "for elem in _list :\n",
        "  _list[_list.index(elem)]= str(elem)  # similarly we can typecast into float\n",
        "\n",
        "print(_list)"
      ],
      "metadata": {
        "colab": {
          "base_uri": "https://localhost:8080/"
        },
        "id": "jff0GEbFNfUL",
        "outputId": "b70df1bf-6aa4-4cc4-ae20-8fbdf4ca1edd"
      },
      "execution_count": 13,
      "outputs": [
        {
          "output_type": "stream",
          "name": "stdout",
          "text": [
            "['8', '2', '10', '4', '5']\n"
          ]
        }
      ]
    },
    {
      "cell_type": "code",
      "source": [
        "# 11.Write a program that checks if a number is positive, negative, or zero\n",
        "\n",
        "num=int(input('input a number '))\n",
        "if num%2==0 and num!=0:\n",
        "  print('number is positive')\n",
        "elif num==0 :\n",
        "  print('number is zero')\n",
        "else :\n",
        "  print('number is negative')"
      ],
      "metadata": {
        "colab": {
          "base_uri": "https://localhost:8080/"
        },
        "id": "fZ2rODfNScj6",
        "outputId": "7954f67e-8a68-44ac-b1ff-c8c4ca5f8700"
      },
      "execution_count": 14,
      "outputs": [
        {
          "output_type": "stream",
          "name": "stdout",
          "text": [
            "input a number 5\n",
            "number is negative\n"
          ]
        }
      ]
    },
    {
      "cell_type": "code",
      "source": [
        "# 12.  Write a for loop to print numbers from 1 to 10\n",
        "\n",
        "for num in range(1,11) :\n",
        "  print(num,end=' ')"
      ],
      "metadata": {
        "colab": {
          "base_uri": "https://localhost:8080/"
        },
        "id": "5l5_ygizTTmq",
        "outputId": "9524818d-4f47-4aec-d3d6-9a43d9622437"
      },
      "execution_count": 15,
      "outputs": [
        {
          "output_type": "stream",
          "name": "stdout",
          "text": [
            "1 2 3 4 5 6 7 8 9 10 "
          ]
        }
      ]
    },
    {
      "cell_type": "code",
      "source": [
        "# 13. Write a Python program to find the sum of all even numbers between 1 and 50\n",
        "\n",
        "sum=0\n",
        "for num in range(0,51,2) :\n",
        "  sum+=num\n",
        "\n",
        "print(sum)"
      ],
      "metadata": {
        "colab": {
          "base_uri": "https://localhost:8080/"
        },
        "id": "o0I_P5czT-Fo",
        "outputId": "b94d5023-4223-4c54-e652-a5740889b253"
      },
      "execution_count": 16,
      "outputs": [
        {
          "output_type": "stream",
          "name": "stdout",
          "text": [
            "650\n"
          ]
        }
      ]
    },
    {
      "cell_type": "code",
      "source": [
        "# 14. Write a program to reverse a string using a while loop\n",
        "\n",
        "_str='hello pw'\n",
        "_rev_str=''\n",
        "it=0\n",
        "while it<len(_str):\n",
        "  _rev_str+=_str[len(_str)-it-1]\n",
        "  it+=1\n",
        "\n",
        "print(_rev_str)"
      ],
      "metadata": {
        "colab": {
          "base_uri": "https://localhost:8080/"
        },
        "id": "yxJo9NZMUchh",
        "outputId": "5a4cd15c-7127-4a43-ca83-7421bb9569b0"
      },
      "execution_count": 17,
      "outputs": [
        {
          "output_type": "stream",
          "name": "stdout",
          "text": [
            "wp olleh\n"
          ]
        }
      ]
    },
    {
      "cell_type": "code",
      "source": [
        "# 15.Write a Python program to calculate the factorial of a number provided by the user using a while loop\n",
        "\n",
        "_fact=1\n",
        "num=int(input('Enter a non negative number '))\n",
        "\n",
        "if num>=0:\n",
        "  while num>0:\n",
        "    _fact*=num\n",
        "    num-=1\n",
        "\n",
        "  print(_fact)\n",
        "\n",
        "else :print('Provide a valid number')"
      ],
      "metadata": {
        "colab": {
          "base_uri": "https://localhost:8080/"
        },
        "id": "YGRVqtniWHL4",
        "outputId": "697bbbeb-5038-4cc4-ae25-5bfee57a9718"
      },
      "execution_count": 18,
      "outputs": [
        {
          "output_type": "stream",
          "name": "stdout",
          "text": [
            "Enter a non negative number 5\n",
            "120\n"
          ]
        }
      ]
    }
  ]
}